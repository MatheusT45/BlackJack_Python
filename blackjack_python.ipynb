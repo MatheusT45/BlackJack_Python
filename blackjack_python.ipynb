{
 "cells": [
  {
   "cell_type": "markdown",
   "metadata": {},
   "source": [
    "# Projeto 2 - Blackjack!\n",
    "Neste projeto você estará criando um jogo de cartas BlackJack completo em Python.\n",
    "\n",
    "Aqui estão os requisitos:\n",
    "\n",
    "* Você precisa criar um jogo [BlackJack](https://en.wikipedia.org/wiki/Blackjack) baseado em texto.\n",
    "* O jogo precisa ter um jogador versus um dealer automatizado.\n",
    "* O jogador pode esperar ou pedir mais cartas.\n",
    "* O jogador deve poder escolher o seu valor de apostas.\n",
    "* Você precisa acompanhar o dinheiro total dos jogadores.\n",
    "* Você precisa alertar o jogador de vitórias, perdas, etc ...\n",
    "\n",
    "E o mais importante:\n",
    "\n",
    "* ** Você deve usar POO e classes em alguma parte do seu jogo. Você não pode apenas usar funções no seu jogo. Use aulas para ajudá-lo a definir o baralho e a mão do jogador. Existem muitas formas corretas de fazer isso, então explore-o bem! **\n",
    "\n",
    "\n",
    "Não hesite em expandir este jogo, tente inclusive vários jogadores. Tente adicionar em Double-Down e divisão de cartas! Lembre-se de que você é livre para usar os recursos que você deseja e como sempre:\n",
    "\n",
    "# DIVERTA-SE!"
   ]
  },
  {
   "cell_type": "code",
   "execution_count": 1,
   "metadata": {},
   "outputs": [],
   "source": [
    "import random"
   ]
  },
  {
   "cell_type": "code",
   "execution_count": 2,
   "metadata": {},
   "outputs": [],
   "source": [
    "class Jogador(object):\n",
    "    def __init__(self,nome,saldo):\n",
    "        self.saldo = saldo\n",
    "        self.nome = nome\n",
    "    \n",
    "    #def pedirCartas(self):\n",
    "        \n",
    "    #def Esperar(self):\n",
    "    \n",
    "    #def Apostar(self):\n",
    "    \n",
    "    #def Saldo(self):\n",
    "    \n",
    "    "
   ]
  },
  {
   "cell_type": "code",
   "execution_count": 3,
   "metadata": {},
   "outputs": [],
   "source": [
    "class Dealer(object):\n",
    "    def __init__(self, carta1,carta2):\n",
    "        self.carta1 = carta1\n",
    "        self.carta2 = carta2\n",
    "    \n",
    "    #def mostrarCartas():\n",
    "        "
   ]
  },
  {
   "cell_type": "code",
   "execution_count": 4,
   "metadata": {},
   "outputs": [],
   "source": [
    "class Baralho(object):\n",
    "    #carta = ['ás','dois','três','quatro','cinco','seis','sete','oito','nove','rei','ás']\n",
    "    def __init__(self):\n",
    "        pass\n",
    "    def cartasAleatorias(self):\n",
    "        print(random.randint(2,22))\n",
    "    def cartaDealer(self):\n",
    "        print(random.randint(1,11))\n",
    "        "
   ]
  },
  {
   "cell_type": "code",
   "execution_count": 5,
   "metadata": {},
   "outputs": [],
   "source": [
    "def iniciarJogo():\n",
    "    print('Seja Bem-vindo ao jogo!')\n",
    "    nome = input('Qual é o seu nome?')\n",
    "    jogador = Jogador(nome,20)\n",
    "    print('Seu saldo inicial é de:',jogador.saldo,'mangos.')\n",
    "    valor_aposta = apostar(jogador)\n",
    "    jogador.saldo -= valor_aposta\n",
    "    print('Saldo atual:',jogador.saldo)\n",
    "    \n",
    "    "
   ]
  },
  {
   "cell_type": "code",
   "execution_count": 8,
   "metadata": {},
   "outputs": [],
   "source": [
    "def apostar(jogador):\n",
    "    while True:\n",
    "        try:\n",
    "            aposta = input('Insira o valor que deseja apostar:')\n",
    "            aposta = int(aposta)\n",
    "            if(aposta>jogador.saldo):\n",
    "                print('Valor inválido ou excede seu saldo')\n",
    "                continue\n",
    "        except:\n",
    "            print('Valor inválido ou excede seu saldo')\n",
    "            continue\n",
    "        else:    \n",
    "            return aposta"
   ]
  },
  {
   "cell_type": "code",
   "execution_count": 7,
   "metadata": {},
   "outputs": [
    {
     "name": "stdout",
     "output_type": "stream",
     "text": [
      "Seja Bem-vindo ao jogo!\n",
      "Qual o seu nome?teste\n",
      "Seu saldo inicial é de: 20 mangos.\n",
      "Insira o valor que deseja apostar:21\n",
      "Valor inválido ou excede seu saldo\n",
      "Insira o valor que deseja apostar:5\n",
      "Saldo atual: 15\n"
     ]
    }
   ],
   "source": [
    "iniciarJogo()"
   ]
  },
  {
   "cell_type": "code",
   "execution_count": null,
   "metadata": {},
   "outputs": [],
   "source": []
  }
 ],
 "metadata": {
  "kernelspec": {
   "display_name": "Python 3",
   "language": "python",
   "name": "python3"
  },
  "language_info": {
   "codemirror_mode": {
    "name": "ipython",
    "version": 3
   },
   "file_extension": ".py",
   "mimetype": "text/x-python",
   "name": "python",
   "nbconvert_exporter": "python",
   "pygments_lexer": "ipython3",
   "version": "3.7.3"
  }
 },
 "nbformat": 4,
 "nbformat_minor": 1
}
